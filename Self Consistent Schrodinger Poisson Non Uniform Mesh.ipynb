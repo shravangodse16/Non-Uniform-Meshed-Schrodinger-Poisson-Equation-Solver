{
 "cells": [
  {
   "cell_type": "code",
   "execution_count": 81,
   "metadata": {},
   "outputs": [],
   "source": [
    "import numpy as np\n",
    "import matplotlib.pyplot as plt\n",
    "from scipy import integrate\n",
    "from scipy import linalg as LA\n",
    "import time"
   ]
  },
  {
   "cell_type": "code",
   "execution_count": 82,
   "metadata": {},
   "outputs": [],
   "source": [
    "#Constants \n",
    "global nm\n",
    "nm = 1e-9\n",
    "L = 4*nm\n",
    "\n",
    "global hbar \n",
    "hbar = 1.0545718e-34  #in SI Units\n",
    "#hbar_mod = 6.582e-16    # in eV.s\n",
    "global es\n",
    "es = 8.85418782e-12\n",
    "# hbar=1\n",
    "# m=0.5\n",
    "global m \n",
    "m = 9.10938356e-31\n",
    " \n",
    "\n",
    "Nd = 1e18  #  Doping in m^3\n",
    "e = 1.60217662e-19\n",
    "Ei = 0.56\n",
    "ni = 1e10  # intrinsic in m^3\n",
    "k = 1.380649e-23\n",
    "T = 300\n",
    "kT = k*T\n",
    "\n",
    "global aa\n",
    "aa = m/(np.pi*hbar**2)\n",
    "global Ef\n",
    "Ef = Ei+kT*np.log(Nd/ni)"
   ]
  },
  {
   "cell_type": "code",
   "execution_count": 98,
   "metadata": {},
   "outputs": [],
   "source": [
    "#Non Uniform mesh :\n",
    "N = 500\n",
    "x1,dx1 = np.linspace(-L,-2*nm,10,endpoint=False,retstep=True)\n",
    "x2,dx2 = np.linspace(-2*nm,2*nm,480,endpoint=False,retstep=True)\n",
    "x3,dx3 = np.linspace(2*nm,L,10,retstep=True)\n",
    "x = np.concatenate((x1,x2,x3),axis=0)\n",
    "diff = []\n",
    "for i in range(len(x)-1):\n",
    "    hi = x[i+1]-x[i]\n",
    "    diff.append(hi)\n",
    "diff.append(dx2)\n",
    "diff.append(dx1)"
   ]
  },
  {
   "cell_type": "code",
   "execution_count": 93,
   "metadata": {},
   "outputs": [],
   "source": [
    "#Uniform Mesh :\n",
    "N=500\n",
    "x,dx=np.linspace(-L,L,N,endpoint=True,retstep=True)"
   ]
  },
  {
   "cell_type": "code",
   "execution_count": 99,
   "metadata": {},
   "outputs": [],
   "source": [
    "V_init = 10.0*(np.heaviside(x+1*nm,0.5)-np.heaviside(x-1*nm,0.5)) "
   ]
  },
  {
   "cell_type": "code",
   "execution_count": 100,
   "metadata": {},
   "outputs": [],
   "source": [
    "def Schrodinger_nonuniform(V):\n",
    "    A = np.zeros([N,N])\n",
    "    for i in range(N):\n",
    "        for j in range(N):\n",
    "            hi = diff[i]\n",
    "            hi_1 = diff[i-1]\n",
    "            hi1 = diff[i+1]\n",
    "            if j == i+1:\n",
    "                A[i,j] = (-(hbar**2)/2)*(2/m)*(1/(hi1*(hi+hi_1)))\n",
    "            if j == i-1:\n",
    "                A[i,j] = (-(hbar**2)/2)*(2/m)*(1/(hi_1*(hi+hi_1)))\n",
    "            else:\n",
    "                continue\n",
    "    for i in range(N):\n",
    "        if i == 0:\n",
    "            A[i,i] = -2*A[i,i+1] + V[i]\n",
    "        elif i == N-1:\n",
    "            A[i,i] = -2*A[i,i-1] + V[i]\n",
    "        else:\n",
    "            A[i,i] = -A[i,i+1] - A[i,i-1] + V[i]\n",
    "    L = np.zeros([N,N])\n",
    "    for i in range(N):\n",
    "        hi = diff[i]\n",
    "        hi_1 = diff[i-1]\n",
    "        L[i,i] = np.sqrt((hi+hi_1)/2)\n",
    "    M = np.matmul(L,L)\n",
    "    B = np.matmul(M,A)\n",
    "    L_inv = np.linalg.inv(L)\n",
    "    temp = np.matmul(L_inv,B)\n",
    "    H = np.matmul(temp,L_inv)\n",
    "    w1,v1 = LA.eig(H)\n",
    "    index=np.argsort(w1)\n",
    "    sorted_w1=np.sort(w1[index])\n",
    "    sorted_v1=v1[:,index]\n",
    "    for i in range(np.shape(sorted_v1)[1]):\n",
    "        sorted_v1[:,i] = np.matmul(L_inv,sorted_v1[:,i])\n",
    "        conjug = np.conj(sorted_v1[:,i])\n",
    "        prob = conjug*sorted_v1[:,i]\n",
    "        norm = np.trapz(prob,x)\n",
    "        sorted_v1[:,i] = sorted_v1[:,i]/norm\n",
    "    return sorted_w1,sorted_v1"
   ]
  },
  {
   "cell_type": "code",
   "execution_count": 101,
   "metadata": {},
   "outputs": [],
   "source": [
    "def Schrodinger_uniform(V):\n",
    "    Lap=(-2*np.diag(np.ones(N),0) + np.diag(np.ones(N-1),1) +np.diag(np.ones(N-1),-1))/(dx**2)\n",
    "    Lap[0,0],Lap[0,1],Lap[1,0]=0,0,0\n",
    "    Lap[N-1,N-2],Lap[N-2,N-1],Lap[N-1,N-1]=0,0,0\n",
    "    \n",
    "    H=-(1.0/2.0)*(hbar**2/m)*Lap+np.diag(V)\n",
    "\n",
    "    w1,v1=LA.eig(H)\n",
    "\n",
    "    index=np.argsort(w1)\n",
    "    sorted_w1=np.sort(w1[index]) #Energy eigen value in eV\n",
    "    sorted_v1=v1[:,index]\n",
    "    for i in range(np.shape(sorted_v1)[1]):\n",
    "        conjug = np.conj(sorted_v1[:,i])\n",
    "        prob = conjug*sorted_v1[:,i]\n",
    "        norm = np.trapz(prob,x)\n",
    "        sorted_v1[:,i] = sorted_v1[:,i]/norm\n",
    "    return sorted_w1,sorted_v1"
   ]
  },
  {
   "cell_type": "code",
   "execution_count": 60,
   "metadata": {},
   "outputs": [],
   "source": [
    "def Carrier_Density(w1,v1):\n",
    "    \n",
    "    f = lambda Ec: 1/(1+np.exp((Ec-Ef)/kT))\n",
    "    bb = np.zeros(np.shape(w1)[0])\n",
    "    for idx in range(np.shape(w1)[0]):\n",
    "        Ek = w1[idx].real\n",
    "        tt = integrate.quad(f, Ek, np.inf)\n",
    "        bb[idx] = tt[0]\n",
    "\n",
    "    nk = aa*bb\n",
    "    nx = np.zeros(np.shape(v1)[0])\n",
    "    #nx_ind = np.zeros((N,j))\n",
    "    for idx1 in range(np.shape(w1)[0]):\n",
    "        Ek = w1[idx1].real\n",
    "        for idx2 in range(np.shape(v1)[0]):\n",
    "            v1_conj = np.conj(v1[idx2,idx1])\n",
    "            nx[idx2] += (v1_conj*v1[idx2,idx1])*nk[idx1]\n",
    "        \n",
    "        \n",
    "        #nx = (nx+(v1_conj*sorted_v1[:,idx1]*nk[idx1]))\n",
    "    \n",
    "    #nx_ind=nx_ind/(8e-7**3)\n",
    "    return nx"
   ]
  },
  {
   "cell_type": "code",
   "execution_count": 46,
   "metadata": {},
   "outputs": [],
   "source": [
    "def Poisson(rho):\n",
    "    #x,dx = np.linspace(0,L,N,retstep=True)\n",
    "    Lap = (-2*np.diag([1]*N,k=0)+np.diag([1]*(N-1),k=1)+np.diag([1]*(N-1),k=-1))/(dx**2)\n",
    "    #Next modify Lap so that it is consistent with f(0) = f(L) = 0\n",
    "    Lap[0,0] = -2\n",
    "    Lap[0,2] = 1\n",
    "    Lap[1,0] = 1\n",
    "\n",
    "    Lap[N-1,N-2] = 1; \n",
    "    Lap[N-2,N-1] = 1; \n",
    "    Lap[N-1,N-1] = -1;\n",
    "    myLap = np.matrix(Lap)\n",
    "    V = (myLap.I*rho.T)/es\n",
    "    return np.asarray(V).reshape(N)"
   ]
  },
  {
   "cell_type": "code",
   "execution_count": 102,
   "metadata": {},
   "outputs": [
    {
     "name": "stdout",
     "output_type": "stream",
     "text": [
      "0.6521549224853516\n",
      "(0.24898722210082436+0j)\n"
     ]
    }
   ],
   "source": [
    "#To compare Times\n",
    "start = time.time()\n",
    "w,v = Schrodinger_nonuniform(-e*V_init)\n",
    "end = time.time()\n",
    "print(end-start)\n",
    "print((w[1]-w[0])/e)"
   ]
  }
 ],
 "metadata": {
  "kernelspec": {
   "display_name": "Python 3",
   "language": "python",
   "name": "python3"
  },
  "language_info": {
   "codemirror_mode": {
    "name": "ipython",
    "version": 3
   },
   "file_extension": ".py",
   "mimetype": "text/x-python",
   "name": "python",
   "nbconvert_exporter": "python",
   "pygments_lexer": "ipython3",
   "version": "3.8.5"
  }
 },
 "nbformat": 4,
 "nbformat_minor": 4
}
